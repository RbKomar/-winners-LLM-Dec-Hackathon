{
 "cells": [
  {
   "cell_type": "code",
   "execution_count": 1,
   "metadata": {},
   "outputs": [],
   "source": [
    "from stackapi import StackAPI\n",
    "import requests\n",
    "from bs4 import BeautifulSoup\n",
    "SITE = StackAPI('stackoverflow')"
   ]
  },
  {
   "cell_type": "code",
   "execution_count": 2,
   "metadata": {},
   "outputs": [],
   "source": [
    "resp = SITE.fetch('search/advanced', tagged='python', sort='relevance', accepted=True, body='index out of range', pagesize=1)"
   ]
  },
  {
   "cell_type": "code",
   "execution_count": 3,
   "metadata": {},
   "outputs": [
    {
     "data": {
      "text/plain": [
       "5"
      ]
     },
     "execution_count": 3,
     "metadata": {},
     "output_type": "execute_result"
    }
   ],
   "source": [
    "len(resp['items'])"
   ]
  },
  {
   "cell_type": "code",
   "execution_count": 14,
   "metadata": {},
   "outputs": [
    {
     "data": {
      "text/plain": [
       "['https://stackoverflow.com/questions/6667201/how-to-define-a-two-dimensional-array',\n",
       " 'https://stackoverflow.com/questions/10712002/create-an-empty-list-with-certain-size-in-python',\n",
       " 'https://stackoverflow.com/questions/28782940/load-csv-file-with-pyspark',\n",
       " 'https://stackoverflow.com/questions/8570606/check-element-exists-in-array',\n",
       " 'https://stackoverflow.com/questions/43712730/pythongetting-list-index-out-of-range-error']"
      ]
     },
     "execution_count": 14,
     "metadata": {},
     "output_type": "execute_result"
    }
   ],
   "source": [
    "urls = [r['link'] for r in resp['items']]\n",
    "urls"
   ]
  },
  {
   "cell_type": "code",
   "execution_count": 22,
   "metadata": {},
   "outputs": [
    {
     "name": "stdout",
     "output_type": "stream",
     "text": [
      "30\n",
      "18\n",
      "13\n",
      "6\n",
      "1\n"
     ]
    }
   ],
   "source": [
    "for url in urls:\n",
    "    response = requests.get(url)\n",
    "    assert response.status_code == 200\n",
    "    soup = BeautifulSoup(response.text, 'lxml')\n",
    "    question = soup.find('div', {'class': 'postcell'}).find('div', {'class': 's-prose'})\n",
    "    answers = [s.find('div', {'class': 's-prose'}).text for s in soup.find_all('div', {'class': 'answercell'})]\n"
   ]
  }
 ],
 "metadata": {
  "kernelspec": {
   "display_name": "bluesoft",
   "language": "python",
   "name": "python3"
  },
  "language_info": {
   "codemirror_mode": {
    "name": "ipython",
    "version": 3
   },
   "file_extension": ".py",
   "mimetype": "text/x-python",
   "name": "python",
   "nbconvert_exporter": "python",
   "pygments_lexer": "ipython3",
   "version": "3.9.6"
  }
 },
 "nbformat": 4,
 "nbformat_minor": 2
}
