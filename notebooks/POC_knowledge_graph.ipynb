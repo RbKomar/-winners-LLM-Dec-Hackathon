{
 "cells": [
  {
   "cell_type": "code",
   "execution_count": 2,
   "id": "initial_id",
   "metadata": {
    "collapsed": true,
    "ExecuteTime": {
     "end_time": "2023-12-08T23:28:33.404262400Z",
     "start_time": "2023-12-08T23:28:26.859467600Z"
    }
   },
   "outputs": [
    {
     "name": "stderr",
     "output_type": "stream",
     "text": [
      "[nltk_data] Downloading package punkt to\n",
      "[nltk_data]     C:\\Users\\ml\\AppData\\Roaming\\nltk_data...\n",
      "[nltk_data]   Package punkt is already up-to-date!\n",
      "[nltk_data] Downloading package stopwords to\n",
      "[nltk_data]     C:\\Users\\ml\\AppData\\Roaming\\nltk_data...\n",
      "[nltk_data]   Package stopwords is already up-to-date!\n"
     ]
    }
   ],
   "source": [
    "from collections import defaultdict\n",
    "\n",
    "import git\n",
    "import nltk\n",
    "from nltk.corpus import stopwords\n",
    "from nltk.tokenize import word_tokenize\n",
    "\n",
    "nltk.download('punkt')\n",
    "nltk.download('stopwords')\n",
    "\n",
    "repo_path = r'C:\\Users\\ml\\PycharmProjects\\LLM-Dec-Hackathon\\tests\\test_repo'\n",
    "repo = git.Repo(repo_path)\n",
    "\n",
    "authors = set()\n",
    "files = defaultdict(list)\n",
    "commits = []\n",
    "\n",
    "\n",
    "def extract_keywords(message):\n",
    "    tokens = word_tokenize(message)\n",
    "    stop_words = set(stopwords.words('english'))\n",
    "    keywords = [word for word in tokens if word not in stop_words and word.isalpha()]\n",
    "    return keywords\n",
    "\n",
    "\n",
    "for commit in repo.iter_commits():\n",
    "    authors.add(commit.author.name)\n",
    "    commit_files = list(commit.stats.files.keys())\n",
    "    for file in commit_files:\n",
    "        files[file].append(commit.hexsha)\n",
    "    commit_data = {'commit_id': commit.hexsha, 'author': commit.author.name,\n",
    "        'date': commit.committed_datetime.isoformat(), 'message': commit.message,\n",
    "        'keywords': extract_keywords(commit.message), 'files': commit_files}\n",
    "    commits.append(commit_data)\n",
    "\n",
    "structured_data = {'authors': list(authors), 'files': dict(files), 'commits': commits}\n"
   ]
  },
  {
   "cell_type": "code",
   "execution_count": 3,
   "outputs": [],
   "source": [
    "import networkx as nx\n",
    "\n",
    "G = nx.DiGraph()\n",
    "\n",
    "# Adding nodes for authors, files, commits, and keywords\n",
    "for author in structured_data['authors']:\n",
    "    G.add_node(author, type='author')\n",
    "\n",
    "for file, versions in structured_data['files'].items():\n",
    "    G.add_node(file, type='file')\n",
    "    for version in versions:\n",
    "        version_node = f\"{file}_{version}\"\n",
    "        G.add_node(version_node, type='file_version')\n",
    "        G.add_edge(file, version_node, type='version')\n",
    "\n",
    "for commit in structured_data['commits']:\n",
    "    G.add_node(commit['commit_id'], type='commit', author=commit['author'], date=commit['date'])\n",
    "    G.add_edge(commit['author'], commit['commit_id'], type='authored')\n",
    "    for file in commit['files']:\n",
    "        file_version_node = f\"{file}_{commit['commit_id']}\"\n",
    "        G.add_edge(commit['commit_id'], file_version_node, type='modifies')\n",
    "\n",
    "# Adding keyword nodes and edges\n",
    "for commit in structured_data['commits']:\n",
    "    for keyword in commit['keywords']:\n",
    "        G.add_node(keyword, type='keyword')\n",
    "        G.add_edge(commit['commit_id'], keyword, type='mentions')\n"
   ],
   "metadata": {
    "collapsed": false,
    "ExecuteTime": {
     "end_time": "2023-12-08T23:29:33.743378400Z",
     "start_time": "2023-12-08T23:29:32.242536200Z"
    }
   },
   "id": "8bfe2ed1c81930dd"
  },
  {
   "cell_type": "code",
   "execution_count": 4,
   "outputs": [
    {
     "data": {
      "text/plain": "<Figure size 640x480 with 1 Axes>",
      "image/png": "[encoded data removed]"
     },
     "metadata": {},
     "output_type": "display_data"
    }
   ],
   "source": [
    "import matplotlib.pyplot as plt\n",
    "\n",
    "# Basic visualization\n",
    "pos = nx.spring_layout(G)  # positions for all nodes\n",
    "nx.draw_networkx_nodes(G, pos, node_size=700)\n",
    "nx.draw_networkx_edges(G, pos, edgelist=G.edges(), edge_color='black')\n",
    "nx.draw_networkx_labels(G, pos)\n",
    "plt.show()\n"
   ],
   "metadata": {
    "collapsed": false,
    "ExecuteTime": {
     "end_time": "2023-12-08T23:30:19.612899900Z",
     "start_time": "2023-12-08T23:29:47.995786900Z"
    }
   },
   "id": "2c720eb3f54b8545"
  },
  {
   "cell_type": "code",
   "execution_count": null,
   "outputs": [],
   "source": [],
   "metadata": {
    "collapsed": false
   },
   "id": "67f5b936d7711da3"
  }
 ],
 "metadata": {
  "kernelspec": {
   "display_name": "Python 3",
   "language": "python",
   "name": "python3"
  },
  "language_info": {
   "codemirror_mode": {
    "name": "ipython",
    "version": 2
   },
   "file_extension": ".py",
   "mimetype": "text/x-python",
   "name": "python",
   "nbconvert_exporter": "python",
   "pygments_lexer": "ipython2",
   "version": "2.7.6"
  }
 },
 "nbformat": 4,
 "nbformat_minor": 5
}
